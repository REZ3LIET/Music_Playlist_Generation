{
 "cells": [
  {
   "cell_type": "markdown",
   "metadata": {},
   "source": [
    "# 1. Create a Database from a csv file using Milvus and Pandas\n",
    "- Read cleaned data\n",
    "- Create a local database for testing\n",
    "- Add necessary data to database\n",
    "\n",
    "## Mimic [milvus_quickstart](./milvus_quickstart.ipynb) first and then do explorations"
   ]
  },
  {
   "cell_type": "code",
   "execution_count": 7,
   "metadata": {},
   "outputs": [],
   "source": [
    "import pandas as pd\n",
    "from pymilvus import model\n",
    "from pymilvus import MilvusClient\n",
    "from sentence_transformers import SentenceTransformer"
   ]
  },
  {
   "cell_type": "markdown",
   "metadata": {},
   "source": [
    "## 1.1. Read Data"
   ]
  },
  {
   "cell_type": "code",
   "execution_count": 2,
   "metadata": {},
   "outputs": [
    {
     "data": {
      "text/html": [
       "<div>\n",
       "<style scoped>\n",
       "    .dataframe tbody tr th:only-of-type {\n",
       "        vertical-align: middle;\n",
       "    }\n",
       "\n",
       "    .dataframe tbody tr th {\n",
       "        vertical-align: top;\n",
       "    }\n",
       "\n",
       "    .dataframe thead th {\n",
       "        text-align: right;\n",
       "    }\n",
       "</style>\n",
       "<table border=\"1\" class=\"dataframe\">\n",
       "  <thead>\n",
       "    <tr style=\"text-align: right;\">\n",
       "      <th></th>\n",
       "      <th>input</th>\n",
       "      <th>track_name</th>\n",
       "    </tr>\n",
       "  </thead>\n",
       "  <tbody>\n",
       "    <tr>\n",
       "      <th>0</th>\n",
       "      <td>danceability:0.676 track_genre:acoustic valenc...</td>\n",
       "      <td>Comedy</td>\n",
       "    </tr>\n",
       "    <tr>\n",
       "      <th>1</th>\n",
       "      <td>danceability:0.42 track_genre:acoustic valence...</td>\n",
       "      <td>Ghost - Acoustic</td>\n",
       "    </tr>\n",
       "    <tr>\n",
       "      <th>2</th>\n",
       "      <td>danceability:0.438 track_genre:acoustic valenc...</td>\n",
       "      <td>To Begin Again</td>\n",
       "    </tr>\n",
       "    <tr>\n",
       "      <th>3</th>\n",
       "      <td>danceability:0.266 track_genre:acoustic valenc...</td>\n",
       "      <td>Can't Help Falling In Love</td>\n",
       "    </tr>\n",
       "    <tr>\n",
       "      <th>4</th>\n",
       "      <td>danceability:0.618 track_genre:acoustic valenc...</td>\n",
       "      <td>Hold On</td>\n",
       "    </tr>\n",
       "  </tbody>\n",
       "</table>\n",
       "</div>"
      ],
      "text/plain": [
       "                                               input  \\\n",
       "0  danceability:0.676 track_genre:acoustic valenc...   \n",
       "1  danceability:0.42 track_genre:acoustic valence...   \n",
       "2  danceability:0.438 track_genre:acoustic valenc...   \n",
       "3  danceability:0.266 track_genre:acoustic valenc...   \n",
       "4  danceability:0.618 track_genre:acoustic valenc...   \n",
       "\n",
       "                   track_name  \n",
       "0                      Comedy  \n",
       "1            Ghost - Acoustic  \n",
       "2              To Begin Again  \n",
       "3  Can't Help Falling In Love  \n",
       "4                     Hold On  "
      ]
     },
     "execution_count": 2,
     "metadata": {},
     "output_type": "execute_result"
    }
   ],
   "source": [
    "df = pd .read_csv(\"/workspaces/Music_Playlist_Generation/music_playlist_generation/data/data.csv\")\n",
    "df.head()"
   ]
  },
  {
   "cell_type": "markdown",
   "metadata": {},
   "source": [
    "Here track_name is supposed to be our output data from Vector DB given other factors."
   ]
  },
  {
   "cell_type": "markdown",
   "metadata": {},
   "source": [
    "## 1.2 Setting up Milvus DB"
   ]
  },
  {
   "cell_type": "code",
   "execution_count": 3,
   "metadata": {},
   "outputs": [],
   "source": [
    "client = MilvusClient(\"/workspaces/Music_Playlist_Generation/music_playlist_generation/databases/mpg_v0x1.db\")"
   ]
  },
  {
   "cell_type": "markdown",
   "metadata": {},
   "source": [
    "### 1.2.1 Creating a Collection\n",
    "\n",
    "A collection in Milvus is like a table in a traditional database. It's where our data will be stored. Each collection can have multiple fields, akin to columns in a table. A collection a `primary_key` field which is a unique identifier for each entity within a collection. It ensures that each entity can be uniquely identified and accessed. For this `auto_id` is enabled."
   ]
  },
  {
   "cell_type": "code",
   "execution_count": 4,
   "metadata": {},
   "outputs": [
    {
     "name": "stdout",
     "output_type": "stream",
     "text": [
      "Deleting old data\n"
     ]
    }
   ],
   "source": [
    "if client.has_collection(collection_name=\"music_collection\"):\n",
    "    print(\"Deleting old data\")\n",
    "    client.drop_collection(collection_name=\"music_collection\")\n",
    "client.create_collection(\n",
    "    collection_name=\"music_collection\",\n",
    "    dimension=768,  # The vectors we will use in this demo has 768 dimensions\n",
    "    primary_field_name=\"music_id\",\n",
    "    auto_id=True\n",
    ")"
   ]
  },
  {
   "cell_type": "markdown",
   "metadata": {},
   "source": [
    "### 1.2.2 Data Preparation\n",
    "\n",
    "- Convert Dataframe to list of dict (each dict is a new row) or alternative `Collection.construct_from_dataframe`\n",
    "- Vectorize data using an embedding model. Vectorized data will be used for searching through the database so in this scenario we vectorize the combination of `danceability`, `track_genre` and `valence`."
   ]
  },
  {
   "cell_type": "code",
   "execution_count": 6,
   "metadata": {},
   "outputs": [
    {
     "ename": "TypeError",
     "evalue": "OnnxEmbeddingFunction.__init__() got an unexpected keyword argument 'clean_up_tokenization_spaces'",
     "output_type": "error",
     "traceback": [
      "\u001b[0;31m---------------------------------------------------------------------------\u001b[0m",
      "\u001b[0;31mTypeError\u001b[0m                                 Traceback (most recent call last)",
      "Cell \u001b[0;32mIn[6], line 6\u001b[0m\n\u001b[1;32m      3\u001b[0m track_name \u001b[38;5;241m=\u001b[39m df[\u001b[38;5;124m\"\u001b[39m\u001b[38;5;124mtrack_name\u001b[39m\u001b[38;5;124m\"\u001b[39m]\u001b[38;5;241m.\u001b[39mto_list()\n\u001b[1;32m      5\u001b[0m \u001b[38;5;66;03m# This will download a small embedding model \"paraphrase-albert-small-v2\" (~50MB).\u001b[39;00m\n\u001b[0;32m----> 6\u001b[0m embedding_fn \u001b[38;5;241m=\u001b[39m \u001b[43mmodel\u001b[49m\u001b[38;5;241;43m.\u001b[39;49m\u001b[43mDefaultEmbeddingFunction\u001b[49m\u001b[43m(\u001b[49m\u001b[43mclean_up_tokenization_spaces\u001b[49m\u001b[38;5;241;43m=\u001b[39;49m\u001b[38;5;28;43;01mTrue\u001b[39;49;00m\u001b[43m)\u001b[49m\n\u001b[1;32m      8\u001b[0m \u001b[38;5;66;03m# Vectorize input data\u001b[39;00m\n\u001b[1;32m      9\u001b[0m vectors \u001b[38;5;241m=\u001b[39m embedding_fn\u001b[38;5;241m.\u001b[39mencode_documents(\u001b[38;5;28minput\u001b[39m)\n",
      "\u001b[0;31mTypeError\u001b[0m: OnnxEmbeddingFunction.__init__() got an unexpected keyword argument 'clean_up_tokenization_spaces'"
     ]
    }
   ],
   "source": [
    "# Convert data to string\n",
    "input = df[\"input\"].to_list()\n",
    "track_name = df[\"track_name\"].to_list()\n",
    "\n",
    "# This will download a small embedding model \"paraphrase-albert-small-v2\" (~50MB).\n",
    "embedding_fn = model.model.dense.SentenceTransformerEmbeddingFunction(\n",
    "    model_name='all-mpnet-base-v2', # Specify the model name\n",
    "    device='cpu' # Specify the device to use, e.g., 'cpu' or 'cuda:0'\n",
    ")\n",
    "\n",
    "# Vectorize input data\n",
    "vectors = embedding_fn.encode_documents(input)\n",
    "# The output vector has 768 dimensions, matching the collection that we just created.\n",
    "print(\"Dim:\", embedding_fn.dim, vectors[0].shape)  # Dim: 768 (768,)"
   ]
  },
  {
   "cell_type": "code",
   "execution_count": null,
   "metadata": {},
   "outputs": [],
   "source": [
    "# This will download a small embedding model \"paraphrase-albert-small-v2\" (~50MB).\n",
    "embedding_fn = model.DefaultEmbeddingFunction()\n",
    "\n",
    "vectors = embedding_fn.encode_documents(docs)\n",
    "# The output vector has 768 dimensions, matching the collection that we just created.\n",
    "print(\"Dim:\", embedding_fn.dim, vectors[0].shape)  # Dim: 768 (768,)\n",
    "\n",
    "# Each entity has id, vector representation, raw text, and a subject label that we use\n",
    "# to demo metadata filtering later.\n",
    "data = [\n",
    "    {\"id\": i, \"vector\": vectors[i], \"text\": docs[i], \"subject\": \"history\"}\n",
    "    for i in range(len(vectors))\n",
    "]\n",
    "\n",
    "print(\"Data has\", len(data), \"entities, each with fields: \", data[0].keys())\n",
    "print(\"Vector dim:\", len(data[0][\"vector\"]))"
   ]
  }
 ],
 "metadata": {
  "kernelspec": {
   "display_name": "Python 3",
   "language": "python",
   "name": "python3"
  },
  "language_info": {
   "codemirror_mode": {
    "name": "ipython",
    "version": 3
   },
   "file_extension": ".py",
   "mimetype": "text/x-python",
   "name": "python",
   "nbconvert_exporter": "python",
   "pygments_lexer": "ipython3",
   "version": "3.10.12"
  }
 },
 "nbformat": 4,
 "nbformat_minor": 2
}
