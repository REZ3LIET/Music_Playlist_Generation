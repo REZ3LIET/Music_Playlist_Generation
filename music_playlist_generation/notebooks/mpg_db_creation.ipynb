{
 "cells": [
  {
   "cell_type": "markdown",
   "metadata": {},
   "source": [
    "# 1. Create a Database from a csv file using Milvus and Pandas\n",
    "- Read cleaned data\n",
    "- Create a local database for testing\n",
    "- Add necessary data to database\n",
    "\n",
    "## Mimic [milvus_quickstart](./milvus_quickstart.ipynb) first and then do explorations"
   ]
  },
  {
   "cell_type": "code",
   "execution_count": 10,
   "metadata": {},
   "outputs": [],
   "source": [
    "import pandas as pd\n",
    "from pymilvus import model\n",
    "from pymilvus import connections, utility, FieldSchema, CollectionSchema, DataType, Collection"
   ]
  },
  {
   "cell_type": "markdown",
   "metadata": {},
   "source": [
    "## 1.1. Read Data"
   ]
  },
  {
   "cell_type": "code",
   "execution_count": 11,
   "metadata": {},
   "outputs": [
    {
     "data": {
      "text/html": [
       "<div>\n",
       "<style scoped>\n",
       "    .dataframe tbody tr th:only-of-type {\n",
       "        vertical-align: middle;\n",
       "    }\n",
       "\n",
       "    .dataframe tbody tr th {\n",
       "        vertical-align: top;\n",
       "    }\n",
       "\n",
       "    .dataframe thead th {\n",
       "        text-align: right;\n",
       "    }\n",
       "</style>\n",
       "<table border=\"1\" class=\"dataframe\">\n",
       "  <thead>\n",
       "    <tr style=\"text-align: right;\">\n",
       "      <th></th>\n",
       "      <th>danceability</th>\n",
       "      <th>track_genre</th>\n",
       "      <th>valence</th>\n",
       "      <th>track_name</th>\n",
       "    </tr>\n",
       "  </thead>\n",
       "  <tbody>\n",
       "    <tr>\n",
       "      <th>0</th>\n",
       "      <td>0.676</td>\n",
       "      <td>acoustic</td>\n",
       "      <td>0.715</td>\n",
       "      <td>Comedy</td>\n",
       "    </tr>\n",
       "    <tr>\n",
       "      <th>1</th>\n",
       "      <td>0.420</td>\n",
       "      <td>acoustic</td>\n",
       "      <td>0.267</td>\n",
       "      <td>Ghost - Acoustic</td>\n",
       "    </tr>\n",
       "    <tr>\n",
       "      <th>2</th>\n",
       "      <td>0.438</td>\n",
       "      <td>acoustic</td>\n",
       "      <td>0.120</td>\n",
       "      <td>To Begin Again</td>\n",
       "    </tr>\n",
       "    <tr>\n",
       "      <th>3</th>\n",
       "      <td>0.266</td>\n",
       "      <td>acoustic</td>\n",
       "      <td>0.143</td>\n",
       "      <td>Can't Help Falling In Love</td>\n",
       "    </tr>\n",
       "    <tr>\n",
       "      <th>4</th>\n",
       "      <td>0.618</td>\n",
       "      <td>acoustic</td>\n",
       "      <td>0.167</td>\n",
       "      <td>Hold On</td>\n",
       "    </tr>\n",
       "  </tbody>\n",
       "</table>\n",
       "</div>"
      ],
      "text/plain": [
       "   danceability track_genre  valence                  track_name\n",
       "0         0.676    acoustic    0.715                      Comedy\n",
       "1         0.420    acoustic    0.267            Ghost - Acoustic\n",
       "2         0.438    acoustic    0.120              To Begin Again\n",
       "3         0.266    acoustic    0.143  Can't Help Falling In Love\n",
       "4         0.618    acoustic    0.167                     Hold On"
      ]
     },
     "execution_count": 11,
     "metadata": {},
     "output_type": "execute_result"
    }
   ],
   "source": [
    "df = pd .read_csv(\"/workspaces/Music_Playlist_Generation/music_playlist_generation/data/data.csv\")\n",
    "df.head()"
   ]
  },
  {
   "cell_type": "markdown",
   "metadata": {},
   "source": [
    "Here track_name is supposed to be our output data from Vector DB given other factors."
   ]
  },
  {
   "cell_type": "markdown",
   "metadata": {},
   "source": [
    "## 1.2 Setting up Milvus DB"
   ]
  },
  {
   "cell_type": "code",
   "execution_count": 12,
   "metadata": {},
   "outputs": [
    {
     "name": "stdout",
     "output_type": "stream",
     "text": [
      "Connected to Milvus.\n"
     ]
    }
   ],
   "source": [
    "try:\n",
    "    conn = connections.connect(\"default\", host=\"localhost\", port=\"19530\")\n",
    "    print(\"Connected to Milvus.\")\n",
    "except Exception as e:\n",
    "    print(f\"Failed to connect to Milvus: {e}\")\n",
    "    raise"
   ]
  },
  {
   "cell_type": "markdown",
   "metadata": {},
   "source": [
    "### 1.2.1 Creating a Collection\n",
    "\n",
    "A collection in Milvus is like a table in a traditional database. It's where our data will be stored. Each collection can have multiple fields, akin to columns in a table. A collection a `primary_key` field which is a unique identifier for each entity within a collection. It ensures that each entity can be uniquely identified and accessed."
   ]
  },
  {
   "cell_type": "code",
   "execution_count": 13,
   "metadata": {},
   "outputs": [
    {
     "name": "stdout",
     "output_type": "stream",
     "text": [
      "Deleting old collection\n"
     ]
    }
   ],
   "source": [
    "if utility.has_collection(\"music_collection\"):\n",
    "    print(\"Deleting old collection\")\n",
    "    utility.drop_collection(\"music_collection\")\n",
    "\n",
    "# Define fields for our collection\n",
    "fields = [\n",
    "    FieldSchema(name=\"music_id\", dtype=DataType.VARCHAR, is_primary=True, auto_id=False, max_length=100),\n",
    "    FieldSchema(name=\"track_genre\", dtype=DataType.VARCHAR, max_length=500),\n",
    "    # FieldSchema(name=\"danceability\", dtype=DataType.FLOAT),\n",
    "    # FieldSchema(name=\"valence\", dtype=DataType.FLOAT),\n",
    "    FieldSchema(name=\"danceability_valence\", dtype=DataType.FLOAT_VECTOR, dim=2),\n",
    "    FieldSchema(name=\"track_name\", dtype=DataType.VARCHAR, max_length=500),\n",
    "    # FieldSchema(name=\"embeddings\", dtype=DataType.FLOAT_VECTOR, dim=384)\n",
    "]\n",
    "\n",
    "schema = CollectionSchema(fields, description=\"Collection of Music\")\n",
    "collection = Collection(\"music_collection\", schema)"
   ]
  },
  {
   "cell_type": "markdown",
   "metadata": {},
   "source": [
    "### 1.2.2 Data Preparation\n",
    "\n",
    "- Convert Dataframe to list of dict (each dict is a new row) or alternative `Collection.construct_from_dataframe`\n",
    "- Vectorize data using an embedding model. Vectorized data will be used for searching through the database so in this scenario we vectorize the combination of `danceability`, `track_genre` and `valence`."
   ]
  },
  {
   "cell_type": "code",
   "execution_count": 14,
   "metadata": {},
   "outputs": [],
   "source": [
    "# This will download a small embedding model \"paraphrase-albert-small-v2\" (~50MB).\n",
    "# embedding_fn = model.dense.SentenceTransformerEmbeddingFunction(\n",
    "#     model_name='multi-qa-MiniLM-L6-cos-v1', # Specify the model name\n",
    "#     device='cuda:0' # Specify the device to use, e.g., 'cpu' or 'cuda:0'\n",
    "# )\n",
    "\n",
    "# Convert data to list\n",
    "# Limiting data to 50 values due to limit on local DB\n",
    "track_genre = df[\"track_genre\"].to_list()[:50]\n",
    "# danceability = df[\"danceability\"].to_list()[:50]\n",
    "# valence = df[\"valence\"].to_list()[:50]\n",
    "danceability_valence = list(zip(df[\"danceability\"].to_list()[:50], df[\"valence\"].to_list()[:50]))\n",
    "track_name = df[\"track_name\"].to_list()[:50]\n",
    "# embeddings = embedding_fn.encode_documents(track_genre)"
   ]
  },
  {
   "cell_type": "markdown",
   "metadata": {},
   "source": [
    "### 1.2.3 Adding Data to DB"
   ]
  },
  {
   "cell_type": "code",
   "execution_count": 15,
   "metadata": {},
   "outputs": [
    {
     "name": "stdout",
     "output_type": "stream",
     "text": [
      "(insert count: 50, delete count: 0, upsert count: 0, timestamp: 452725505784283141, success count: 50, err count: 0\n"
     ]
    }
   ],
   "source": [
    "data = [\n",
    "    {\n",
    "        \"music_id\": str(i),\n",
    "        # \"embeddings\": embeddings[i],\n",
    "        \"track_genre\": track_genre[i],\n",
    "        # \"danceability\": danceability[i],\n",
    "        # \"valence\": valence[i],\n",
    "        \"danceability_valence\": danceability_valence[i],\n",
    "        \"track_name\": track_name[i],\n",
    "    }\n",
    "    for i in range(len(danceability_valence))\n",
    "]\n",
    "\n",
    "index_params = {\n",
    "  \"metric_type\":\"L2\",\n",
    "  \"index_type\":\"IVF_FLAT\",\n",
    "  \"params\":{\"nlist\":128}\n",
    "}\n",
    "collection.create_index(\"danceability_valence\", index_params)\n",
    "insert_result = collection.insert(data)\n",
    "print(insert_result)"
   ]
  },
  {
   "cell_type": "markdown",
   "metadata": {},
   "source": [
    "## 1.3 Semantic Search\n",
    "Get `track_name` by giving values of `danceability`, `track_genre` and `valence` in the format as in input data of dataframe.\n",
    "\n",
    "danceability: Danceability measures how suitable a track is for dancing, ranging from 0 to 1. Tracks with high danceability scores are\n",
    "more energetic and rhythmic, making them ideal for dancing.\n",
    "\n",
    "track_genre: The genre of the track. Due to limiting data to 50 values the default of track_genre is acoustic.\n",
    "\n",
    "valence: Valence measures the musical positiveness conveyed by a track, ranging from 0 to 1. High valence values indicate more positive\n",
    "or happy tracks, while lower values suggest more negative or sad ones."
   ]
  },
  {
   "cell_type": "code",
   "execution_count": 17,
   "metadata": {},
   "outputs": [
    {
     "name": "stdout",
     "output_type": "stream",
     "text": [
      "0 [\"id: 24, distance: 0.10213199257850647, entity: {'danceability_valence': [0.7960000038146973, 0.7540000081062317]}\", \"id: 7, distance: 0.1711529940366745, entity: {'danceability_valence': [0.703000009059906, 0.7120000123977661]}\", \"id: 20, distance: 0.1711529940366745, entity: {'danceability_valence': [0.703000009059906, 0.7120000123977661]}\", \"id: 0, distance: 0.18620100617408752, entity: {'danceability_valence': [0.6759999990463257, 0.7149999737739563]}\", \"id: 17, distance: 0.19490596652030945, entity: {'danceability_valence': [0.7950000166893005, 0.609000027179718]}\"]\n",
      "1 [\"id: 3, distance: 0.09120500832796097, entity: {'danceability_valence': [0.26600000262260437, 0.14300000667572021]}\", \"id: 33, distance: 0.12842001020908356, entity: {'danceability_valence': [0.29600000381469727, 0.20200000703334808]}\", \"id: 34, distance: 0.12842001020908356, entity: {'danceability_valence': [0.29600000381469727, 0.20200000703334808]}\", \"id: 35, distance: 0.12842001020908356, entity: {'danceability_valence': [0.29600000381469727, 0.20200000703334808]}\", \"id: 6, distance: 0.1715012490749359, entity: {'danceability_valence': [0.40700000524520874, 0.07649999856948853]}\"]\n",
      "2 [\"id: 44, distance: 0.0005799995269626379, entity: {'danceability_valence': [0.47600001096725464, 0.49799999594688416]}\", \"id: 23, distance: 0.005409003235399723, entity: {'danceability_valence': [0.5720000267028809, 0.5149999856948853]}\", \"id: 12, distance: 0.011569999158382416, entity: {'danceability_valence': [0.48899999260902405, 0.6069999933242798]}\", \"id: 32, distance: 0.012745000422000885, entity: {'danceability_valence': [0.5929999947547913, 0.5640000104904175]}\", \"id: 27, distance: 0.01808900386095047, entity: {'danceability_valence': [0.6330000162124634, 0.5199999809265137]}\"]\n",
      "3 [\"id: 13, distance: 0.13916200399398804, entity: {'danceability_valence': [0.6909999847412109, 0.20900000631809235]}\", \"id: 25, distance: 0.16892501711845398, entity: {'danceability_valence': [0.7549999952316284, 0.33000001311302185]}\", \"id: 4, distance: 0.17381301522254944, entity: {'danceability_valence': [0.6179999709129333, 0.16699999570846558]}\", \"id: 19, distance: 0.1837729960680008, entity: {'danceability_valence': [0.7170000076293945, 0.32199999690055847]}\", \"id: 41, distance: 0.20678798854351044, entity: {'danceability_valence': [0.5680000185966492, 0.1420000046491623]}\"]\n",
      "4 [\"id: 12, distance: 0.3935700058937073, entity: {'danceability_valence': [0.48899999260902405, 0.6069999933242798]}\", \"id: 42, distance: 0.3982490003108978, entity: {'danceability_valence': [0.5680000185966492, 0.7250000238418579]}\", \"id: 43, distance: 0.3982490003108978, entity: {'danceability_valence': [0.5680000185966492, 0.7250000238418579]}\", \"id: 45, distance: 0.3982490003108978, entity: {'danceability_valence': [0.5680000185966492, 0.7250000238418579]}\", \"id: 46, distance: 0.3982490003108978, entity: {'danceability_valence': [0.5680000185966492, 0.7250000238418579]}\"]\n",
      "5 [\"id: 17, distance: 0.053905997425317764, entity: {'danceability_valence': [0.7950000166893005, 0.609000027179718]}\", \"id: 14, distance: 0.07279400527477264, entity: {'danceability_valence': [0.7549999952316284, 0.3869999945163727]}\", \"id: 25, distance: 0.08892499655485153, entity: {'danceability_valence': [0.7549999952316284, 0.33000001311302185]}\", \"id: 16, distance: 0.09383201599121094, entity: {'danceability_valence': [0.7059999704360962, 0.414000004529953]}\", \"id: 24, distance: 0.10613200068473816, entity: {'danceability_valence': [0.7960000038146973, 0.7540000081062317]}\"]\n",
      "6 [\"id: 42, distance: 0.08024898916482925, entity: {'danceability_valence': [0.5680000185966492, 0.7250000238418579]}\", \"id: 43, distance: 0.08024898916482925, entity: {'danceability_valence': [0.5680000185966492, 0.7250000238418579]}\", \"id: 45, distance: 0.08024898916482925, entity: {'danceability_valence': [0.5680000185966492, 0.7250000238418579]}\", \"id: 46, distance: 0.08024898916482925, entity: {'danceability_valence': [0.5680000185966492, 0.7250000238418579]}\", \"id: 47, distance: 0.08024898916482925, entity: {'danceability_valence': [0.5680000185966492, 0.7250000238418579]}\"]\n"
     ]
    }
   ],
   "source": [
    "# danceability, Max: 0.796, Min: 0.266\n",
    "# valence, Max: 0.754, Min: 0.0765\n",
    "########################################\n",
    "# Max dancebility: 24         0.796    acoustic    0.754   Unlonely\n",
    "# Min dancebility: 3         0.266    acoustic    0.143  Can't Help Falling In Love\n",
    "# Max valence: 24         0.796    acoustic    0.754   Unlonely\n",
    "# Min valence:  6          0.407    acoustic   0.0765  Say Something\n",
    "########################################\n",
    "\n",
    "check_vals = [\n",
    "    [1, \"acoustic\", 1],\n",
    "    [0, \"acoustic\", 0],\n",
    "    [0.5, \"acoustic\", 0.5],\n",
    "    [1, \"acoustic\", 0],\n",
    "    [0, \"acoustic\", 1],\n",
    "    [1, \"acoustic\", 0.5],\n",
    "    [0.5, \"pop\", 1],\n",
    "]\n",
    "\n",
    "collection.load() # Loads the data into memory for use\n",
    "for idx, val in enumerate(check_vals):\n",
    "    x_val, genre, y_val = val\n",
    "    # query_vector = embedding_fn.encode_queries([genre])\n",
    "    result = collection.search(\n",
    "        data=[[x_val, y_val]],  # query vectors\n",
    "        anns_field=\"danceability_valence\",\n",
    "        param={\"params\": {\"nprobe\": 10}},\n",
    "        limit=5,  # number of returned entities\n",
    "        expr=f\"track_genre=='{genre}'\",\n",
    "        output_fields=[\"danceability_valence\"],  # specifies fields to be returned\n",
    "    )[0]\n",
    "    # print(idx, list(map(lambda x: x.id, result)))\n",
    "    print(idx, result)"
   ]
  }
 ],
 "metadata": {
  "kernelspec": {
   "display_name": "Python 3",
   "language": "python",
   "name": "python3"
  },
  "language_info": {
   "codemirror_mode": {
    "name": "ipython",
    "version": 3
   },
   "file_extension": ".py",
   "mimetype": "text/x-python",
   "name": "python",
   "nbconvert_exporter": "python",
   "pygments_lexer": "ipython3",
   "version": "3.10.12"
  }
 },
 "nbformat": 4,
 "nbformat_minor": 2
}
