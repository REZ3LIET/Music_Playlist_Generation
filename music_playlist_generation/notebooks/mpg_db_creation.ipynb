{
 "cells": [
  {
   "cell_type": "markdown",
   "metadata": {},
   "source": [
    "# 1. Create a Database from a csv file using Milvus and Pandas\n",
    "- Read cleaned data\n",
    "- Create a local database for testing\n",
    "- Add necessary data to database\n",
    "\n",
    "## Mimic [milvus_quickstart](./milvus_quickstart.ipynb) first and then do explorations"
   ]
  },
  {
   "cell_type": "code",
   "execution_count": 59,
   "metadata": {},
   "outputs": [],
   "source": [
    "import pandas as pd\n",
    "from pymilvus import model\n",
    "from pymilvus import connections, utility, FieldSchema, CollectionSchema, DataType, Collection"
   ]
  },
  {
   "cell_type": "markdown",
   "metadata": {},
   "source": [
    "## 1.1. Read Data"
   ]
  },
  {
   "cell_type": "code",
   "execution_count": 37,
   "metadata": {},
   "outputs": [
    {
     "data": {
      "text/html": [
       "<div>\n",
       "<style scoped>\n",
       "    .dataframe tbody tr th:only-of-type {\n",
       "        vertical-align: middle;\n",
       "    }\n",
       "\n",
       "    .dataframe tbody tr th {\n",
       "        vertical-align: top;\n",
       "    }\n",
       "\n",
       "    .dataframe thead th {\n",
       "        text-align: right;\n",
       "    }\n",
       "</style>\n",
       "<table border=\"1\" class=\"dataframe\">\n",
       "  <thead>\n",
       "    <tr style=\"text-align: right;\">\n",
       "      <th></th>\n",
       "      <th>danceability</th>\n",
       "      <th>track_genre</th>\n",
       "      <th>valence</th>\n",
       "      <th>track_name</th>\n",
       "    </tr>\n",
       "  </thead>\n",
       "  <tbody>\n",
       "    <tr>\n",
       "      <th>0</th>\n",
       "      <td>0.676</td>\n",
       "      <td>acoustic</td>\n",
       "      <td>0.715</td>\n",
       "      <td>Comedy</td>\n",
       "    </tr>\n",
       "    <tr>\n",
       "      <th>1</th>\n",
       "      <td>0.420</td>\n",
       "      <td>acoustic</td>\n",
       "      <td>0.267</td>\n",
       "      <td>Ghost - Acoustic</td>\n",
       "    </tr>\n",
       "    <tr>\n",
       "      <th>2</th>\n",
       "      <td>0.438</td>\n",
       "      <td>acoustic</td>\n",
       "      <td>0.120</td>\n",
       "      <td>To Begin Again</td>\n",
       "    </tr>\n",
       "    <tr>\n",
       "      <th>3</th>\n",
       "      <td>0.266</td>\n",
       "      <td>acoustic</td>\n",
       "      <td>0.143</td>\n",
       "      <td>Can't Help Falling In Love</td>\n",
       "    </tr>\n",
       "    <tr>\n",
       "      <th>4</th>\n",
       "      <td>0.618</td>\n",
       "      <td>acoustic</td>\n",
       "      <td>0.167</td>\n",
       "      <td>Hold On</td>\n",
       "    </tr>\n",
       "  </tbody>\n",
       "</table>\n",
       "</div>"
      ],
      "text/plain": [
       "   danceability track_genre  valence                  track_name\n",
       "0         0.676    acoustic    0.715                      Comedy\n",
       "1         0.420    acoustic    0.267            Ghost - Acoustic\n",
       "2         0.438    acoustic    0.120              To Begin Again\n",
       "3         0.266    acoustic    0.143  Can't Help Falling In Love\n",
       "4         0.618    acoustic    0.167                     Hold On"
      ]
     },
     "execution_count": 37,
     "metadata": {},
     "output_type": "execute_result"
    }
   ],
   "source": [
    "df = pd .read_csv(\"/workspaces/Music_Playlist_Generation/music_playlist_generation/data/data.csv\")\n",
    "df.head()"
   ]
  },
  {
   "cell_type": "markdown",
   "metadata": {},
   "source": [
    "Here track_name is supposed to be our output data from Vector DB given other factors."
   ]
  },
  {
   "cell_type": "markdown",
   "metadata": {},
   "source": [
    "## 1.2 Setting up Milvus DB"
   ]
  },
  {
   "cell_type": "code",
   "execution_count": 57,
   "metadata": {},
   "outputs": [
    {
     "name": "stdout",
     "output_type": "stream",
     "text": [
      "Connected to Milvus.\n"
     ]
    }
   ],
   "source": [
    "try:\n",
    "    conn = connections.connect(\"default\", host=\"localhost\", port=\"19530\")\n",
    "    print(\"Connected to Milvus.\")\n",
    "except Exception as e:\n",
    "    print(f\"Failed to connect to Milvus: {e}\")\n",
    "    raise"
   ]
  },
  {
   "cell_type": "markdown",
   "metadata": {},
   "source": [
    "### 1.2.1 Creating a Collection\n",
    "\n",
    "A collection in Milvus is like a table in a traditional database. It's where our data will be stored. Each collection can have multiple fields, akin to columns in a table. A collection a `primary_key` field which is a unique identifier for each entity within a collection. It ensures that each entity can be uniquely identified and accessed."
   ]
  },
  {
   "cell_type": "code",
   "execution_count": 73,
   "metadata": {},
   "outputs": [
    {
     "name": "stdout",
     "output_type": "stream",
     "text": [
      "Deleting old collection\n"
     ]
    }
   ],
   "source": [
    "if utility.has_collection(\"music_collection\"):\n",
    "    print(\"Deleting old collection\")\n",
    "    utility.drop_collection(\"music_collection\")\n",
    "\n",
    "# Define fields for our collection\n",
    "fields = [\n",
    "    FieldSchema(name=\"music_id\", dtype=DataType.VARCHAR, is_primary=True, auto_id=False, max_length=100),\n",
    "    FieldSchema(name=\"track_genre\", dtype=DataType.VARCHAR, max_length=500),\n",
    "    FieldSchema(name=\"danceability\", dtype=DataType.FLOAT),\n",
    "    FieldSchema(name=\"valence\", dtype=DataType.FLOAT),\n",
    "    FieldSchema(name=\"track_name\", dtype=DataType.VARCHAR, max_length=500),\n",
    "    FieldSchema(name=\"embeddings\", dtype=DataType.FLOAT_VECTOR, dim=384)\n",
    "]\n",
    "\n",
    "schema = CollectionSchema(fields)\n",
    "collection = Collection(\"music_collection\", schema, consistency_level=\"Strong\")"
   ]
  },
  {
   "cell_type": "markdown",
   "metadata": {},
   "source": [
    "### 1.2.2 Data Preparation\n",
    "\n",
    "- Convert Dataframe to list of dict (each dict is a new row) or alternative `Collection.construct_from_dataframe`\n",
    "- Vectorize data using an embedding model. Vectorized data will be used for searching through the database so in this scenario we vectorize the combination of `danceability`, `track_genre` and `valence`."
   ]
  },
  {
   "cell_type": "code",
   "execution_count": 66,
   "metadata": {},
   "outputs": [],
   "source": [
    "# This will download a small embedding model \"paraphrase-albert-small-v2\" (~50MB).\n",
    "embedding_fn = model.dense.SentenceTransformerEmbeddingFunction(\n",
    "    model_name='multi-qa-MiniLM-L6-cos-v1', # Specify the model name\n",
    "    device='cuda:0' # Specify the device to use, e.g., 'cpu' or 'cuda:0'\n",
    ")\n",
    "\n",
    "# Convert data to list\n",
    "# Limiting data to 50 values due to limit on local DB\n",
    "track_genre = df[\"track_genre\"].to_list()[:50]\n",
    "danceability = df[\"danceability\"].to_list()[:50]\n",
    "valence = df[\"valence\"].to_list()[:50]\n",
    "track_name = df[\"track_name\"].to_list()[:50]\n",
    "embeddings = embedding_fn.encode_documents(track_genre)"
   ]
  },
  {
   "cell_type": "markdown",
   "metadata": {},
   "source": [
    "### 1.2.3 Adding Data to DB"
   ]
  },
  {
   "cell_type": "code",
   "execution_count": 79,
   "metadata": {},
   "outputs": [
    {
     "name": "stdout",
     "output_type": "stream",
     "text": [
      "(insert count: 50, delete count: 0, upsert count: 0, timestamp: 452719510562275330, success count: 50, err count: 0\n"
     ]
    }
   ],
   "source": [
    "data = [\n",
    "    {\n",
    "        \"music_id\": str(i),\n",
    "        \"embeddings\": embeddings[i],\n",
    "        \"track_genre\": track_genre[i],\n",
    "        \"danceability\": danceability[i],\n",
    "        \"valence\": valence[i],\n",
    "        \"track_name\": track_name[i],\n",
    "    }\n",
    "    for i in range(len(embeddings))\n",
    "]\n",
    "\n",
    "index_params = {\n",
    "  \"metric_type\":\"L2\",\n",
    "  \"index_type\":\"IVF_FLAT\",\n",
    "  \"params\":{\"nlist\":128}\n",
    "}\n",
    "collection.create_index(\"embeddings\", index_params)\n",
    "insert_result = collection.insert(data)\n",
    "print(insert_result)"
   ]
  },
  {
   "cell_type": "markdown",
   "metadata": {},
   "source": [
    "## 1.3 Semantic Search\n",
    "Get `track_name` by giving values of `danceability`, `track_genre` and `valence` in the format as in input data of dataframe.\n",
    "\n",
    "danceability: Danceability measures how suitable a track is for dancing, ranging from 0 to 1. Tracks with high danceability scores are\n",
    "more energetic and rhythmic, making them ideal for dancing.\n",
    "\n",
    "track_genre: The genre of the track. Due to limiting data to 50 values the default of track_genre is acoustic.\n",
    "\n",
    "valence: Valence measures the musical positiveness conveyed by a track, ranging from 0 to 1. High valence values indicate more positive\n",
    "or happy tracks, while lower values suggest more negative or sad ones."
   ]
  },
  {
   "cell_type": "code",
   "execution_count": 100,
   "metadata": {},
   "outputs": [
    {
     "name": "stdout",
     "output_type": "stream",
     "text": [
      "0 ['32', '42', '43', '45', '46']\n",
      "1 ['33', '34', '35', '36', '39']\n",
      "2 ['32', '33', '34', '35', '36']\n",
      "3 ['12']\n",
      "4 ['37', '38', '41', '4', '10']\n",
      "5 ['32', '42', '43', '45', '46']\n",
      "6 ['32', '37', '38', '41', '42']\n"
     ]
    }
   ],
   "source": [
    "query_template = lambda danceability, track_genre, valence: f\"danceability:{danceability} track_genre:{track_genre} valence: {valence}\"\n",
    "\n",
    "# danceability, Max: 0.796, Min: 0.266\n",
    "# valence, Max: 0.754, Min: 0.0765\n",
    "########################################\n",
    "# Max dancebility: 24         0.796    acoustic    0.754   Unlonely\n",
    "# Min dancebility: 3         0.266    acoustic    0.143  Can't Help Falling In Love\n",
    "# Max valence: 24         0.796    acoustic    0.754   Unlonely\n",
    "# Min valence:  6          0.407    acoustic   0.0765  Say Something\n",
    "check_vals = [\n",
    "    [1, \"acoustic\", 1],\n",
    "    [0, \"acoustic\", 0],\n",
    "    [0.5, \"acoustic\", 0.5],\n",
    "    [1, \"acoustic\", 0],\n",
    "    [0, \"acoustic\", 1],\n",
    "    [1, \"acoustic\", 0.5],\n",
    "    [0.5, \"acoustic\", 1],\n",
    "]\n",
    "\n",
    "collection.load()\n",
    "sens = 0.5\n",
    "for idx, val in enumerate(check_vals):\n",
    "    x_val, genre, y_val = val\n",
    "    query_vector = embedding_fn.encode_queries([genre])\n",
    "    result = collection.search(\n",
    "        data=query_vector,  # query vectors\n",
    "        anns_field=\"embeddings\",\n",
    "        param={\"metric_type\": \"L2\", \"params\": {\"nprobe\": 10}},\n",
    "        limit=5,  # number of returned entities\n",
    "        expr=f\"valence >= {x_val-sens} and valence <= {x_val+sens} and danceability >= {y_val-sens} and danceability <= {y_val+sens}\",\n",
    "        output_fields=[\"valence\", \"danceability\", \"track_name\"],  # specifies fields to be returned\n",
    "    )[0]\n",
    "    print(idx, list(map(lambda x: x.id, result)))"
   ]
  },
  {
   "cell_type": "code",
   "execution_count": 110,
   "metadata": {},
   "outputs": [
    {
     "data": {
      "text/plain": [
       "[\"id: 32, distance: 3.037962676560868e-13, entity: {'valence': 0.5640000104904175, 'danceability': 0.5929999947547913, 'track_name': 'All I Want For Christmas Is A Real Good Tan'}\", \"id: 37, distance: 3.037962676560868e-13, entity: {'valence': 0.3160000145435333, 'danceability': 0.5009999871253967, 'track_name': 'Throwing Good After Bad'}\", \"id: 38, distance: 3.037962676560868e-13, entity: {'valence': 0.414000004529953, 'danceability': 0.6060000061988831, 'track_name': 'This Time Tomorrow'}\", 'id: 41, distance: 3.037962676560868e-13, entity: {\\'valence\\': 0.1420000046491623, \\'danceability\\': 0.5680000185966492, \\'track_name\\': \"When You\\'re Wrong\"}', \"id: 42, distance: 3.037962676560868e-13, entity: {'valence': 0.7250000238418579, 'danceability': 0.5680000185966492, 'track_name': 'You and Me on the Rock'}\"]"
      ]
     },
     "execution_count": 110,
     "metadata": {},
     "output_type": "execute_result"
    }
   ],
   "source": [
    "result"
   ]
  },
  {
   "cell_type": "code",
   "execution_count": 114,
   "metadata": {},
   "outputs": [
    {
     "name": "stdout",
     "output_type": "stream",
     "text": [
      "{'All I Want For Christmas Is A Real Good Tan': 0.764499992132278, 'This Time Tomorrow': 0.7600000053645092, 'You and Me on the Rock': 0.6714999973774868, 'Throwing Good After Bad': 0.6585000008345562, \"When You're Wrong\": 0.6050000116229969}\n"
     ]
    }
   ],
   "source": [
    "# Calculate combined scores (adjust weights as needed)\n",
    "valence_weight = 0.5\n",
    "danceability_weight = 0.5\n",
    "genre_weight = 0.3\n",
    "\n",
    "tracks = {}\n",
    "\n",
    "for entity in result:\n",
    "    # Calculate scores for each criteria (e.g., cosine similarity for track_genre, Euclidean distance for valence and danceability)\n",
    "    genre_score = entity.entity.distance\n",
    "    valence_score = abs(entity.entity.valence - x_val)  # Adjust for closeness to 1\n",
    "    danceability_score = abs(entity.entity.danceability - y_val)  # Adjust for closeness to 1\n",
    "\n",
    "    tracks[entity.entity.track_name] = genre_score * genre_weight + valence_score * valence_weight + danceability_score * danceability_weight\n",
    "\n",
    "# # Rank results based on combined score\n",
    "search_results = dict(sorted(tracks.items(), key=lambda item: item[1], reverse=True))\n",
    "\n",
    "print(search_results)\n",
    "# print(tracks)"
   ]
  }
 ],
 "metadata": {
  "kernelspec": {
   "display_name": "Python 3",
   "language": "python",
   "name": "python3"
  },
  "language_info": {
   "codemirror_mode": {
    "name": "ipython",
    "version": 3
   },
   "file_extension": ".py",
   "mimetype": "text/x-python",
   "name": "python",
   "nbconvert_exporter": "python",
   "pygments_lexer": "ipython3",
   "version": "3.10.12"
  }
 },
 "nbformat": 4,
 "nbformat_minor": 2
}
